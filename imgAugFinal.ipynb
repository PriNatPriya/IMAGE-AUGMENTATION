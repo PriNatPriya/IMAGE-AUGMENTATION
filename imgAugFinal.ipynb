{
 "cells": [
  {
   "cell_type": "code",
   "execution_count": 1,
   "metadata": {},
   "outputs": [],
   "source": [
    "import os\n",
    "import cv2"
   ]
  },
  {
   "cell_type": "code",
   "execution_count": 2,
   "metadata": {},
   "outputs": [],
   "source": [
    "# import cv2\n",
    "# import numpy as np\n",
    "\n",
    "Folder_name=r\"F:\\work\\imaug\\dataset\"\n",
    "Extension=\".jpg\"\n",
    "\n",
    "def scale_image(image,fx,fy):\n",
    "    image = cv2.resize(image,None,fx=fx, fy=fy, interpolation = cv2.INTER_CUBIC)\n",
    "    cv2.imwrite(Folder_name + \"/\" + imgName +\"_Scale_\"+str(fx)+str(fy)+Extension, image)\n",
    "\n",
    "\n",
    "def rotate_image(image,deg):\n",
    "    rows, cols,c = image.shape\n",
    "    M = cv2.getRotationMatrix2D((cols/2,rows/2), deg, 1)\n",
    "    image = cv2.warpAffine(image, M, (cols, rows))\n",
    "    cv2.imwrite(Folder_name +\"/\" + imgName + \"_Rotate_\" + str(deg) + Extension, image)\n",
    "\n",
    "\n",
    "image_file=\"Resize-450*400.jpg\"\n",
    "for imgName in os.listdir(r\"F:\\work\\imaug\\dataset\"):\n",
    "    img_path = os.path.join(r\"F:\\work\\imaug\\dataset\",imgName)\n",
    "    image=cv2.imread(img_path)\n",
    "\n",
    "\n",
    "    scale_image(image,0.3,0.3)\n",
    "    scale_image(image,0.7,0.7)\n",
    "    scale_image(image,2,2)\n",
    "    scale_image(image,3,3)\n",
    "\n",
    "    \n",
    "    rotate_image(image,90)\n",
    "    rotate_image(image,180)\n",
    "    rotate_image(image,270)\n",
    "\n",
    " \n"
   ]
  },
  {
   "cell_type": "code",
   "execution_count": null,
   "metadata": {},
   "outputs": [],
   "source": []
  }
 ],
 "metadata": {
  "kernelspec": {
   "display_name": "Python 3",
   "language": "python",
   "name": "python3"
  },
  "language_info": {
   "codemirror_mode": {
    "name": "ipython",
    "version": 3
   },
   "file_extension": ".py",
   "mimetype": "text/x-python",
   "name": "python",
   "nbconvert_exporter": "python",
   "pygments_lexer": "ipython3",
   "version": "3.7.9"
  }
 },
 "nbformat": 4,
 "nbformat_minor": 4
}
